{
 "cells": [
  {
   "cell_type": "code",
   "execution_count": 21,
   "metadata": {
    "collapsed": true
   },
   "outputs": [],
   "source": [
    "import requests\n",
    "import datetime\n",
    "\n",
    "def fetch_air_range(station_id, date_from, date_until):\n",
    "    url = 'http://airviro.klab.ee/station/csv'\n",
    "    data = {\n",
    "        'filter[type]': 'INDICATOR',\n",
    "        'filter[cancelSearch]': '',\n",
    "        'filter[stationId]': station_id,\n",
    "        'filter[dateFrom]': date_from,\n",
    "        'filter[dateUntil]': date_until,\n",
    "        'filter[submitHit]': '1',\n",
    "        'filter[indicatorIds]': ''\n",
    "    }\n",
    "    response = requests.post(url, data)\n",
    "    return response.text\n",
    "\n",
    "def get_first_and_last_day_of_month(year, month):\n",
    "    # Get the first day of the month\n",
    "    first_day = datetime.date(year, month, 1)\n",
    "\n",
    "    # Get the number of days in the month\n",
    "    if month == 12:\n",
    "        num_days = 31\n",
    "    else:\n",
    "        num_days = (datetime.date(year, month+1, 1) - datetime.timedelta(days=1)).day\n",
    "\n",
    "    # Get the last day of the month\n",
    "    last_day = datetime.date(year, month, num_days)\n",
    "\n",
    "    return first_day, last_day"
   ]
  },
  {
   "cell_type": "code",
   "execution_count": 23,
   "outputs": [
    {
     "name": "stdout",
     "output_type": "stream",
     "text": [
      "2022-01-01 2022-01-31\n",
      "2022-02-01 2022-02-28\n",
      "2022-03-01 2022-03-31\n",
      "2022-04-01 2022-04-30\n",
      "2022-05-01 2022-05-31\n",
      "2022-06-01 2022-06-30\n",
      "2022-07-01 2022-07-31\n",
      "2022-08-01 2022-08-31\n",
      "2022-09-01 2022-09-30\n",
      "2022-10-01 2022-10-31\n",
      "2022-11-01 2022-11-30\n",
      "2022-12-01 2022-12-31\n"
     ]
    }
   ],
   "source": [
    "for month in range(1, 13):\n",
    "    first_day, last_day = get_first_and_last_day_of_month(2022, month)\n",
    "    print(first_day, last_day)\n",
    "\n",
    "    data = fetch_air_range(8, first_day, last_day)\n",
    "    with open(f'air_data/air_{month}.csv', 'w', encoding='UTF-8') as f:\n",
    "        f.write(data)\n"
   ],
   "metadata": {
    "collapsed": false
   }
  },
  {
   "cell_type": "code",
   "execution_count": 25,
   "outputs": [],
   "source": [
    "data = []\n",
    "for month in range(1, 13):\n",
    "    with open(f'air_data/air_{month}.csv', 'r') as f:\n",
    "        if month == 1:\n",
    "            header = f.readline()\n",
    "            data.append(header)\n",
    "        else:\n",
    "            f.readline()\n",
    "        data.extend(f.readlines())\n",
    "\n",
    "with open('air_data/air_2022.csv', 'w') as f:\n",
    "    f.writelines(data)"
   ],
   "metadata": {
    "collapsed": false
   }
  },
  {
   "cell_type": "code",
   "execution_count": 3,
   "outputs": [],
   "source": [
    "import requests\n",
    "def fetch_electric(date_from, date_until):\n",
    "    url = 'https://comptool.e.elering.ee/api/chartCSV'\n",
    "    data = {\n",
    "        'filter[mp1]': '38ZEE-04422581-Z',\n",
    "        'filter[name1]': 'T%C3%B5nningi%20talu,%20Piirsalu%20k%C3%BCla,%20L%C3%A4%C3%A4ne-Nigula%20vald,%20L%C3%A4%C3%A4ne%20maakond,%2090902',\n",
    "        'filter[kind1]': 'UsagePoint.Electricity',\n",
    "        'filter[start]': date_from,\n",
    "        'filter[end]': date_until,\n",
    "        'filter[locale]': 'et-EE',\n",
    "        'filter[addProduction]': False\n",
    "    }\n",
    "    response = requests.post(url, data)\n",
    "    return response.text\n",
    "\n",
    "data = fetch_electric(1648760400000, 1680296399000)\n",
    "with open(f'el_data/elect_year.csv', 'w', encoding='UTF-8') as f:\n",
    "    f.write(data)"
   ],
   "metadata": {
    "collapsed": false
   }
  },
  {
   "cell_type": "code",
   "execution_count": 2,
   "outputs": [],
   "source": [
    "import requests\n",
    "def fetch_nord_pool(end_date):\n",
    "    url = 'https://www.nordpoolgroup.com/api/marketdata/page/47'\n",
    "    data1 = {\n",
    "        'filter[currency]': ',EUR,EUR,EUR',\n",
    "        'filter[endDate]': end_date\n",
    "    }\n",
    "    response2 = requests.post(url, data1)\n",
    "    return response2.text\n",
    "\n",
    "data2 = fetch_nord_pool(22-12-2022)\n",
    "with open(f'el_data/nord_pool.csv', 'w', encoding='UTF-8') as f:\n",
    "    f.write(data2)"
   ],
   "metadata": {
    "collapsed": false
   }
  }
 ],
 "metadata": {
  "kernelspec": {
   "display_name": "Python 3",
   "language": "python",
   "name": "python3"
  },
  "language_info": {
   "codemirror_mode": {
    "name": "ipython",
    "version": 2
   },
   "file_extension": ".py",
   "mimetype": "text/x-python",
   "name": "python",
   "nbconvert_exporter": "python",
   "pygments_lexer": "ipython2",
   "version": "2.7.6"
  }
 },
 "nbformat": 4,
 "nbformat_minor": 0
}
